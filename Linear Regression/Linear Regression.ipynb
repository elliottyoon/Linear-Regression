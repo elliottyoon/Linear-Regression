{
 "cells": [
  {
   "cell_type": "markdown",
   "id": "olive-indicator",
   "metadata": {},
   "source": [
    "## Single variate linear regression with batch gradient descent\n",
    "\n",
    "***\n",
    "\n",
    "#### Process:\n",
    "\n",
    "1. Import libraries (numpy, pandas, matplotlib)\n",
    "2. Read data into DataFrame object\n",
    "3. Implement cost function $J(\\theta_{0},\\theta_{1})$ for gradient descent\n",
    "4. Run gradient descent to fit parameters $\\theta$\n",
    "5. Use cost function $h(\\theta) = \\theta_0 + \\theta_1 x$ to predict _y_ values\n",
    "\n",
    "***"
   ]
  },
  {
   "cell_type": "code",
   "execution_count": 2,
   "id": "powered-shanghai",
   "metadata": {},
   "outputs": [],
   "source": [
    "# Importing necessary libraries\n",
    "\n",
    "import numpy as np\n",
    "import pandas as pd\n",
    "import matplotlib.pyplot as plt"
   ]
  },
  {
   "cell_type": "code",
   "execution_count": 3,
   "id": "southern-parker",
   "metadata": {
    "scrolled": true
   },
   "outputs": [
    {
     "name": "stdout",
     "output_type": "stream",
     "text": [
      "    Population    Profit\n",
      "0       6.1101  17.59200\n",
      "1       5.5277   9.13020\n",
      "2       8.5186  13.66200\n",
      "3       7.0032  11.85400\n",
      "4       5.8598   6.82330\n",
      "..         ...       ...\n",
      "92      5.8707   7.20290\n",
      "93      5.3054   1.98690\n",
      "94      8.2934   0.14454\n",
      "95     13.3940   9.05510\n",
      "96      5.4369   0.61705\n",
      "\n",
      "[97 rows x 2 columns]\n"
     ]
    }
   ],
   "source": [
    "# read text file into pandas DataFrame\n",
    "df = pd.read_csv(\"ex1data1.txt\", sep=\",\", header=None, names=[\"Population\",\"Profit\"])\n",
    "print(df) # printing the data"
   ]
  },
  {
   "cell_type": "code",
   "execution_count": 4,
   "id": "democratic-still",
   "metadata": {},
   "outputs": [
    {
     "data": {
      "text/plain": [
       "Text(0, 0.5, 'Profit in 10,000s')"
      ]
     },
     "execution_count": 4,
     "metadata": {},
     "output_type": "execute_result"
    },
    {
     "data": {
      "image/png": "[encoded data removed]",
      "text/plain": [
       "<Figure size 432x288 with 1 Axes>"
      ]
     },
     "metadata": {
      "needs_background": "light"
     },
     "output_type": "display_data"
    }
   ],
   "source": [
    "# plotting our data, where our x-axis represents city population and our y-axis represents profit\n",
    "\n",
    "fig = plt.figure() # initializes figure object\n",
    "plt.plot(df[\"Population\"], df[\"Profit\"], 'ro')\n",
    "plt.xlabel('City Population in 10,000s')\n",
    "plt.ylabel('Profit in 10,000s')"
   ]
  },
  {
   "cell_type": "markdown",
   "id": "median-zimbabwe",
   "metadata": {},
   "source": [
    "***\n",
    "Now, it's time to **initialize necessary vectors**. \n",
    "\n",
    "We need:\n",
    " * _X_ - a matrix whose columns are different features of our data\n",
    " * _y_ - column vector whose entries are the final outputs of our training data\n",
    " * $\\theta$ - row vector whose entries are the different parameters to our hypothesis function "
   ]
  },
  {
   "cell_type": "code",
   "execution_count": 5,
   "id": "unlike-danger",
   "metadata": {},
   "outputs": [
    {
     "name": "stdout",
     "output_type": "stream",
     "text": [
      "Dimensions of X are: (97,)\n",
      "Dimensions of y are: (97,)\n",
      "Dimensions of theta are: (1, 2)\n"
     ]
    }
   ],
   "source": [
    "X = df['Population'] # Create feature vector X\n",
    "y = df['Profit'] # Create y vector\n",
    "\n",
    "# create a vector of theta parameters, where the number of parameters is the number of features + 1\n",
    "theta = np.zeros(shape=(1, df.shape[1])) \n",
    "theta = pd.DataFrame(theta)\n",
    "\n",
    "# bookkeeping dimensions\n",
    "print(f\"Dimensions of X are: {X.shape}\")\n",
    "print(f\"Dimensions of y are: {y.shape}\")\n",
    "print(f\"Dimensions of theta are: {theta.shape}\")"
   ]
  },
  {
   "cell_type": "markdown",
   "id": "strange-jimmy",
   "metadata": {},
   "source": [
    "***\n",
    "It's almost time to run gradient descent! \n",
    "\n",
    "We just need to define our **cost function** $J(\\theta)$ as follows:\n",
    "$$ J(\\theta) = \\frac{1}{2m}\\sum_{i=1}^{m}(h_{\\theta}((x^{(i)})-y^{(i)})^{2} $$\n",
    "\n",
    "where $m$ is the number of training examples, $h_{\\theta}(x^{i}) = \\theta_{0}+\\theta_{1}x^{(i)}$ is our hypothesis function, and the superscript $(i)$ represents the value corresponding to the $i^{\\textrm{th}}$ training example.\n",
    "\n",
    "\n",
    "$J(\\theta)$ should return a scalar value."
   ]
  },
  {
   "cell_type": "code",
   "execution_count": 6,
   "id": "suitable-princess",
   "metadata": {},
   "outputs": [],
   "source": [
    "J = 0 # initializes our cost function J\n",
    "\n",
    "\n",
    "# computes the summation part of J\n",
    "for i in range(df.shape[0]):\n",
    "    J += (theta[0] + (theta[1] * X[i]) - y[i]) ** 2\n",
    "    \n",
    "J = J / (2 * df.shape[0])"
   ]
  },
  {
   "cell_type": "markdown",
   "id": "sensitive-cause",
   "metadata": {},
   "source": [
    "Now that we have our cost function all set up, the only thing we need to do now is **run gradient descent!**\n",
    "\n",
    "***\n",
    "\n",
    "Our gradient descent algorithm will look something like this:\n",
    "\n",
    "\n",
    "$$\n",
    "\\begin{align}\n",
    "    & \\textrm{repeat until convergence \\{}\\\\\n",
    "    & \\quad\\quad\\theta_{j} := \\theta_{j} - \\frac{\\partial}{\\partial \\theta_{j}}J(\\theta_{0},\\theta_{1})\\quad\\textrm{(for $j=0$, $j=1$)}\\\\\n",
    "    &\\textrm{\\}}\n",
    "\\end{align}\n",
    "$$\n",
    "\n",
    "which after evaluating the partial derivatives, turns out to be this:\n",
    "\n",
    "$$\n",
    "\\begin{align}\n",
    "& \\textrm{repeat until convergence \\{}\\\\\n",
    "    &\\quad\\quad\\left.\n",
    "        \\begin{array} \\\\\n",
    "            \\theta_{0} := \\theta_{0} - \\alpha\\frac{1}{m}\\sum_{i=1}^{m}(h_{\\theta}(x^{(i)})-y^{(i)}) \\\\\n",
    "            \\theta_{0} := \\theta_{0} - \\alpha\\frac{1}{m}\\sum_{i=1}^{m}(h_{\\theta}(x^{(i)})-y^{(i)})\\cdot x^{(i)} \n",
    "        \\end{array}\n",
    "    \\right \\}\\textrm{ Updated simultaneously}\\\\\n",
    "&\\textrm{\\}}\n",
    "\\end{align}\n",
    "$$\n",
    "\n",
    "* We call this algorithm **batch gradient descent**, as it goes through *every* training example each iteration. \n",
    "* $\\alpha$ is what we call the **learning rate**, and depending on how big or small it is, our algorithm will either converge faster, slower, or maybe even not at all!\n",
    "* Notice that both $\\theta_{0}$ and $\\theta_{1}$ are updated *simultaneously*; if they were instead updated procedurally, then for each iteration, $\\theta_{0}$ and $\\theta_{1}$ would be using different values for $h_{\\theta}(x^{(i)})$, which is not what we want. \n",
    "\n",
    "(If we were to update $\\theta_{0}$ and $\\theta_{1}$ procedurally, our psuedo-gradient function would actually still work, but it wouldn't be considered gradient descent.)\n"
   ]
  },
  {
   "cell_type": "markdown",
   "id": "great-standing",
   "metadata": {},
   "source": [
    "In order to update our $\\theta_{0}$ and $\\theta_{1}$ simultaneously, we will employ the use of a *temporary variable* `temp_theta` to act as a placeholder for $\\theta$ each iteration of gradient descent."
   ]
  },
  {
   "cell_type": "code",
   "execution_count": 7,
   "id": "ignored-sunset",
   "metadata": {},
   "outputs": [],
   "source": [
    "#### Implementing gradient descent ####\n",
    "%matplotlib inline\n",
    "\n",
    "# number of iterations\n",
    "iter = 1000\n",
    "\n",
    "# learning rate\n",
    "alpha = 0.01\n",
    "\n",
    "for i in range(iter):\n",
    "    temp_theta = theta\n",
    "    \n",
    "    ### updating theta_0 ###\n",
    "    sum_1 = 0 # the value of the summation for theta_0\n",
    "    for j in range(df.shape[0]):\n",
    "        sum_1 += ((theta.iloc[:,0] + theta.iloc[:,1] * X.iloc[j]) - y.iloc[j])\n",
    "    theta.iloc[:,0] = temp_theta.iloc[:,0] - ((alpha / df.shape[0]) * sum_1) \n",
    "    \n",
    "    \n",
    "    ### updating theta_1 ###\n",
    "    sum_2 = 0 # the value of the summation for theta_0\n",
    "    for j in range(df.shape[0]):\n",
    "        sum_2 += (((theta.iloc[:,0] + theta.iloc[:,1] * X.iloc[j]) - y.iloc[j]) * X.iloc[j])\n",
    "    theta.iloc[:,1] = temp_theta.iloc[:,1] - ((alpha / df.shape[0]) * sum_2) \n"
   ]
  },
  {
   "cell_type": "markdown",
   "id": "aging-danger",
   "metadata": {},
   "source": [
    "***\n",
    "Now that we've fit our parameter vector $\\theta$, let's use it in our hypothesis function $h_{\\theta}$ to make predictions of profits based on a given city population!"
   ]
  },
  {
   "cell_type": "markdown",
   "id": "uniform-cooperation",
   "metadata": {},
   "source": [
    "For example, we will predict the profit corresponding to a city population of 150,000 using our hypothesis function $h_{\\theta}$:"
   ]
  },
  {
   "cell_type": "code",
   "execution_count": 8,
   "id": "reserved-affiliation",
   "metadata": {},
   "outputs": [
    {
     "name": "stdout",
     "output_type": "stream",
     "text": [
      "13.674564953851512\n"
     ]
    }
   ],
   "source": [
    "predicted_profit = float(theta.iloc[:,0]) + float(theta.iloc[:,1]) * 15\n",
    "print(predicted_profit)"
   ]
  },
  {
   "cell_type": "markdown",
   "id": "unsigned-doubt",
   "metadata": {},
   "source": [
    "Finally, replotting our original training data, but now with the hypothesis function $h_{\\theta}$ plotted in blue and our predicted value plotted in yellow, we get:"
   ]
  },
  {
   "cell_type": "code",
   "execution_count": 9,
   "id": "transsexual-promotion",
   "metadata": {
    "scrolled": true
   },
   "outputs": [
    {
     "data": {
      "text/plain": [
       "Text(0, 0.5, 'Profit in 10,000s')"
      ]
     },
     "execution_count": 9,
     "metadata": {},
     "output_type": "execute_result"
    },
    {
     "data": {
      "image/png": "[encoded data removed]",
      "text/plain": [
       "<Figure size 432x288 with 1 Axes>"
      ]
     },
     "metadata": {
      "needs_background": "light"
     },
     "output_type": "display_data"
    }
   ],
   "source": [
    "x = np.arange(5.0, 22.5, .25)\n",
    "theta_0 = float(theta.iloc[:,0])\n",
    "theta_1 = float(theta.iloc[:,1])\n",
    "\n",
    "fig = plt.figure() # initializes figure object\n",
    "plt.plot(df[\"Population\"], df[\"Profit\"], 'ro')\n",
    "plt.plot(x, theta_0 + theta_1 * x)\n",
    "plt.plot(15, predicted_profit, 'yo')\n",
    "plt.xlabel('City Population in 10,000s')\n",
    "plt.ylabel('Profit in 10,000s')"
   ]
  },
  {
   "cell_type": "markdown",
   "id": "wooden-aberdeen",
   "metadata": {},
   "source": [
    "***\n",
    "## Voila!\n",
    "    \n",
    "We've successfully implemented univariate linear regression. The next step would be to implement multivariate linear regression to make predictions based on multiple features, but that's for another time..."
   ]
  },
  {
   "cell_type": "code",
   "execution_count": null,
   "id": "robust-floating",
   "metadata": {},
   "outputs": [],
   "source": []
  }
 ],
 "metadata": {
  "kernelspec": {
   "display_name": "ipy-jupyter-venv3",
   "language": "python",
   "name": "myipy_jupter_env3"
  },
  "language_info": {
   "codemirror_mode": {
    "name": "ipython",
    "version": 3
   },
   "file_extension": ".py",
   "mimetype": "text/x-python",
   "name": "python",
   "nbconvert_exporter": "python",
   "pygments_lexer": "ipython3",
   "version": "3.7.4"
  }
 },
 "nbformat": 4,
 "nbformat_minor": 5
}
