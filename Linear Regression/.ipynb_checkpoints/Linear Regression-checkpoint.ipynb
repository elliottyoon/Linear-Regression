{
 "cells": [
  {
   "cell_type": "markdown",
   "id": "olive-indicator",
   "metadata": {},
   "source": [
    "## Single variate Linear Regression with batch gradient descent\n",
    "\n",
    "Process:\n",
    "\n",
    "1) Import libraries (numpy, pandas, matplotlib)\n",
    "\n",
    "2) Read data into DataFrame object\n",
    "\n",
    "3) Implement cost function for gradient descent\n",
    "\n",
    "4) Run gradient descent to fit parameters (theta)\n",
    "\n",
    "5) Use parameters in cost function _h(theta) = theta_0 + theta_1 * x_ to predict _y_ values"
   ]
  },
  {
   "cell_type": "code",
   "execution_count": 2,
   "id": "powered-shanghai",
   "metadata": {},
   "outputs": [],
   "source": [
    "# Importing necessary libraries\n",
    "\n",
    "import numpy as np\n",
    "import pandas as pd\n",
    "import matplotlib.pyplot as plt"
   ]
  },
  {
   "cell_type": "code",
   "execution_count": 22,
   "id": "southern-parker",
   "metadata": {
    "scrolled": true
   },
   "outputs": [
    {
     "name": "stdout",
     "output_type": "stream",
     "text": [
      "    Population    Profit\n",
      "0       6.1101  17.59200\n",
      "1       5.5277   9.13020\n",
      "2       8.5186  13.66200\n",
      "3       7.0032  11.85400\n",
      "4       5.8598   6.82330\n",
      "..         ...       ...\n",
      "92      5.8707   7.20290\n",
      "93      5.3054   1.98690\n",
      "94      8.2934   0.14454\n",
      "95     13.3940   9.05510\n",
      "96      5.4369   0.61705\n",
      "\n",
      "[97 rows x 2 columns]\n"
     ]
    }
   ],
   "source": [
    "# read text file into pandas DataFrame\n",
    "df = pd.read_csv(\"ex1data1.txt\", sep=\",\", header=None, names=[\"Population\",\"Profit\"])\n",
    "print(df) # printing the data"
   ]
  },
  {
   "cell_type": "code",
   "execution_count": 24,
   "id": "democratic-still",
   "metadata": {},
   "outputs": [
    {
     "data": {
      "text/plain": [
       "Text(0, 0.5, 'Profit in 10,000s')"
      ]
     },
     "execution_count": 24,
     "metadata": {},
     "output_type": "execute_result"
    },
    {
     "data": {
      "image/png": "[encoded data removed]",
      "text/plain": [
       "<Figure size 432x288 with 1 Axes>"
      ]
     },
     "metadata": {
      "needs_background": "light"
     },
     "output_type": "display_data"
    }
   ],
   "source": [
    "# plotting our data, where our x-axis represents city population and our y-axis represents profit\n",
    "\n",
    "fig = plt.figure() # initializes figure object\n",
    "plt.plot(df[\"Population\"], df[\"Profit\"], 'ro')\n",
    "plt.xlabel('City Population in 10,000s')\n",
    "plt.ylabel('Profit in 10,000s')"
   ]
  },
  {
   "cell_type": "code",
   "execution_count": null,
   "id": "unlike-danger",
   "metadata": {},
   "outputs": [],
   "source": []
  }
 ],
 "metadata": {
  "kernelspec": {
   "display_name": "ipy-jupyter-venv3",
   "language": "python",
   "name": "myipy_jupter_env3"
  },
  "language_info": {
   "codemirror_mode": {
    "name": "ipython",
    "version": 3
   },
   "file_extension": ".py",
   "mimetype": "text/x-python",
   "name": "python",
   "nbconvert_exporter": "python",
   "pygments_lexer": "ipython3",
   "version": "3.7.4"
  }
 },
 "nbformat": 4,
 "nbformat_minor": 5
}
