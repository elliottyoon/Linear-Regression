{
 "cells": [
  {
   "cell_type": "markdown",
   "id": "olive-indicator",
   "metadata": {},
   "source": [
    "## Single variate linear regression with batch gradient descent\n",
    "\n",
    "***\n",
    "\n",
    "#### Process:\n",
    "\n",
    "1. Import libraries (numpy, pandas, matplotlib)\n",
    "2. Read data into DataFrame object\n",
    "3. Implement cost function $J(\\theta_{0},\\theta_{1})$ for gradient descent\n",
    "4. Run gradient descent to fit parameters $\\theta$\n",
    "5. Use cost function $h(\\theta) = \\theta_0 + \\theta_1 x$ to predict _y_ values\n",
    "\n",
    "***"
   ]
  },
  {
   "cell_type": "code",
   "execution_count": 16,
   "id": "powered-shanghai",
   "metadata": {},
   "outputs": [],
   "source": [
    "# Importing necessary libraries\n",
    "\n",
    "import numpy as np\n",
    "import pandas as pd\n",
    "import matplotlib.pyplot as plt"
   ]
  },
  {
   "cell_type": "code",
   "execution_count": 17,
   "id": "southern-parker",
   "metadata": {
    "scrolled": true
   },
   "outputs": [
    {
     "name": "stdout",
     "output_type": "stream",
     "text": [
      "    Population    Profit\n",
      "0       6.1101  17.59200\n",
      "1       5.5277   9.13020\n",
      "2       8.5186  13.66200\n",
      "3       7.0032  11.85400\n",
      "4       5.8598   6.82330\n",
      "..         ...       ...\n",
      "92      5.8707   7.20290\n",
      "93      5.3054   1.98690\n",
      "94      8.2934   0.14454\n",
      "95     13.3940   9.05510\n",
      "96      5.4369   0.61705\n",
      "\n",
      "[97 rows x 2 columns]\n"
     ]
    }
   ],
   "source": [
    "# read text file into pandas DataFrame\n",
    "df = pd.read_csv(\"ex1data1.txt\", sep=\",\", header=None, names=[\"Population\",\"Profit\"])\n",
    "print(df) # printing the data"
   ]
  },
  {
   "cell_type": "code",
   "execution_count": 18,
   "id": "democratic-still",
   "metadata": {},
   "outputs": [
    {
     "data": {
      "text/plain": [
       "Text(0, 0.5, 'Profit in 10,000s')"
      ]
     },
     "execution_count": 18,
     "metadata": {},
     "output_type": "execute_result"
    },
    {
     "data": {
      "image/png": "[encoded data removed]",
      "text/plain": [
       "<Figure size 432x288 with 1 Axes>"
      ]
     },
     "metadata": {
      "needs_background": "light"
     },
     "output_type": "display_data"
    }
   ],
   "source": [
    "# plotting our data, where our x-axis represents city population and our y-axis represents profit\n",
    "\n",
    "fig = plt.figure() # initializes figure object\n",
    "plt.plot(df[\"Population\"], df[\"Profit\"], 'ro')\n",
    "plt.xlabel('City Population in 10,000s')\n",
    "plt.ylabel('Profit in 10,000s')"
   ]
  },
  {
   "cell_type": "markdown",
   "id": "median-zimbabwe",
   "metadata": {},
   "source": [
    "***\n",
    "Now, it's time to **initialize necessary vectors**. \n",
    "\n",
    "We need:\n",
    " * _X_ - a matrix whose columns are different features of our data\n",
    " * _y_ - column vector whose entries are the final outputs of our training data\n",
    " * $\\theta$ - row vector whose entries are the different parameters to our hypothesis function "
   ]
  },
  {
   "cell_type": "code",
   "execution_count": 19,
   "id": "unlike-danger",
   "metadata": {},
   "outputs": [
    {
     "name": "stdout",
     "output_type": "stream",
     "text": [
      "Dimensions of X are: (97,)\n",
      "Dimensions of y are: (97,)\n",
      "Dimensions of theta are: (1, 2)\n"
     ]
    }
   ],
   "source": [
    "X = df['Population'] # Create feature vector X\n",
    "y = df['Profit'] # Create y vector\n",
    "\n",
    "# create a vector of theta parameters, where the number of parameters is the number of features + 1\n",
    "theta = np.zeros(shape=(1, df.shape[1])) \n",
    "theta = pd.DataFrame(theta)\n",
    "\n",
    "# bookkeeping dimensions\n",
    "print(f\"Dimensions of X are: {X.shape}\")\n",
    "print(f\"Dimensions of y are: {y.shape}\")\n",
    "print(f\"Dimensions of theta are: {theta.shape}\")"
   ]
  },
  {
   "cell_type": "markdown",
   "id": "strange-jimmy",
   "metadata": {},
   "source": [
    "***\n",
    "It's almost time to run gradient descent! \n",
    "\n",
    "We just need to define our **cost function** $J(\\theta)$ as follows:\n",
    "$$ J(\\theta) = \\frac{1}{2m}\\sum_{i=1}^{m}(h_{\\theta}((x^{(i)})-y^{(i)})^{2} $$\n",
    "\n",
    "where $m$ is the number of training examples, $h_{\\theta}(x^{i}) = \\theta_{0}+\\theta_{1}x^{(i)}$ is our hypothesis function, and the superscript $(i)$ represents the value corresponding to the $i^{\\textrm{th}}$ training example.\n",
    "\n",
    "\n",
    "$J(\\theta)$ should return a scalar value."
   ]
  },
  {
   "cell_type": "code",
   "execution_count": 20,
   "id": "suitable-princess",
   "metadata": {},
   "outputs": [],
   "source": [
    "J = 0 # initializes our cost function J\n",
    "\n",
    "\n",
    "# computes the summation part of J\n",
    "for i in range(df.shape[0]):\n",
    "    J += (theta[0] + (theta[1] * X[i]) - y[i]) ** 2\n",
    "    \n",
    "J = J / (2 * df.shape[0])"
   ]
  },
  {
   "cell_type": "markdown",
   "id": "sensitive-cause",
   "metadata": {},
   "source": [
    "Now that we have our cost function all set up, the only thing we need to do now is **run gradient descent!**\n",
    "\n",
    "***\n",
    "\n",
    "Our gradient descent algorithm will look something like this:\n",
    "\n",
    "\n",
    "$$\n",
    "\\begin{align}\n",
    "    & \\textrm{repeat until convergence \\{}\\\\\n",
    "    & \\quad\\quad\\theta_{j} := \\theta_{j} - \\frac{\\partial}{\\partial \\theta_{j}}J(\\theta_{0},\\theta_{1})\\quad\\textrm{(for $j=0$, $j=1$)}\\\\\n",
    "    &\\textrm{\\}}\n",
    "\\end{align}\n",
    "$$\n",
    "\n",
    "which after evaluating the partial derivatives, turns out to be this:\n",
    "\n",
    "$$\n",
    "\\begin{align}\n",
    "& \\textrm{repeat until convergence \\{}\\\\\n",
    "    &\\quad\\quad\\left.\n",
    "        \\begin{array} \\\\\n",
    "            \\theta_{0} := \\theta_{0} - \\alpha\\frac{1}{m}\\sum_{i=1}^{m}(h_{\\theta}(x^{(i)})-y^{(i)}) \\\\\n",
    "            \\theta_{0} := \\theta_{0} - \\alpha\\frac{1}{m}\\sum_{i=1}^{m}(h_{\\theta}(x^{(i)})-y^{(i)})\\cdot x^{(i)} \n",
    "        \\end{array}\n",
    "    \\right \\}\\textrm{ Updated simultaneously}\\\\\n",
    "&\\textrm{\\}}\n",
    "\\end{align}\n",
    "$$\n",
    "\n",
    "* We call this algorithm **batch gradient descent**, as it goes through *every* training example each iteration. \n",
    "* $\\alpha$ is what we call the **learning rate**, and depending on how big or small it is, our algorithm will either converge faster, slower, or maybe even not at all!\n",
    "* Notice that both $\\theta_{0}$ and $\\theta_{1}$ are updated *simultaneously*; if they were instead updated procedurally, then for each iteration, $\\theta_{0}$ and $\\theta_{1}$ would be using different values for $h_{\\theta}(x^{(i)})$, which is not what we want. \n",
    "\n",
    "(If we were to update $\\theta_{0}$ and $\\theta_{1}$ procedurally, our psuedo-gradient function would actually still work, but it wouldn't be considered gradient descent.)\n"
   ]
  },
  {
   "cell_type": "markdown",
   "id": "great-standing",
   "metadata": {},
   "source": [
    "In order to update our $\\theta_{0}$ and $\\theta_{1}$ simultaneously, we will employ the use of a *temporary variable* `temp_theta` to act as a placeholder for $\\theta$ each iteration of gradient descent."
   ]
  },
  {
   "cell_type": "code",
   "execution_count": 23,
   "id": "ignored-sunset",
   "metadata": {},
   "outputs": [
    {
     "name": "stdout",
     "output_type": "stream",
     "text": [
      "-3.359115709608342, 1.1392168096847755\n",
      "-3.360091015233453, 1.13931461342625\n",
      "-3.3610645483920094, 1.1394122394246087\n",
      "-3.3620363123051944, 1.139509688002872\n",
      "-3.3630063101883367, 1.1396069594834735\n",
      "-3.363974545250922, 1.1397040541882608\n",
      "-3.3649410206966026, 1.1398009724384965\n",
      "-3.365905739723209, 1.1398977145548592\n",
      "-3.3668687055227604, 1.139994280857445\n",
      "-3.3678299212814746, 1.1400906716657682\n",
      "-3.368789390179779, 1.140186887298762\n",
      "-3.3697471153923217, 1.1402829280747806\n",
      "-3.3707031000879804, 1.1403787943115995\n",
      "-3.3716573474298746, 1.1404744863264165\n",
      "-3.3726098605753747, 1.140570004435853\n",
      "-3.373560642676114, 1.1406653489559555\n",
      "-3.374509696877997, 1.1407605202021949\n",
      "-3.375457026321212, 1.14085551848947\n",
      "-3.3764026341402396, 1.1409503441321067\n",
      "-3.377346523463865, 1.1410449974438601\n",
      "-3.3782886974151864, 1.1411394787379145\n",
      "-3.379229159111627, 1.1412337883268855\n",
      "-3.380167911664944, 1.1413279265228204\n",
      "-3.38110495818124, 1.1414218936371994\n",
      "-3.3820403017609717, 1.1415156899809367\n",
      "-3.3829739454989625, 1.1416093158643814\n",
      "-3.3839058924844108, 1.1417027715973187\n",
      "-3.3848361458009006, 1.1417960574889707\n",
      "-3.3857647085264126, 1.1418891738479977\n",
      "-3.3866915837333336, 1.1419821209824987\n",
      "-3.387616774488466, 1.1420748992000131\n",
      "-3.3885402838530405, 1.1421675088075212\n",
      "-3.3894621148827224, 1.1422599501114457\n",
      "-3.390382270627625, 1.1423522234176522\n",
      "-3.3913007541323186, 1.1424443290314503\n",
      "-3.3922175684358398, 1.142536267257595\n",
      "-3.393132716571703, 1.1426280384002874\n",
      "-3.3940462015679085, 1.1427196427631756\n",
      "-3.394958026446955, 1.1428110806493563\n",
      "-3.395868194225848, 1.1429023523613748\n",
      "-3.396776707916109, 1.142993458201227\n",
      "-3.3976835705237876, 1.1430843984703598\n",
      "-3.39858878504947, 1.143175173469672\n",
      "-3.39949235448829, 1.1432657834995164\n",
      "-3.4003942818299366, 1.1433562288596988\n",
      "-3.401294570058667, 1.143446509849481\n",
      "-3.4021932221533144, 1.1435366267675808\n",
      "-3.4030902410872983, 1.1436265799121728\n",
      "-3.403985629828635, 1.14371636958089\n",
      "-3.4048793913399464, 1.1438059960708247\n",
      "-3.40577152857847, 1.1438954596785285\n",
      "-3.40666204449607, 1.1439847607000149\n",
      "-3.407550942039245, 1.1440738994307589\n",
      "-3.4084382241491396, 1.144162876165699\n",
      "-3.409323893761553, 1.144251691199237\n",
      "-3.4102079538069487, 1.1443403448252407\n",
      "-3.4110904072104655, 1.1444288373370428\n",
      "-3.411971256891925, 1.1445171690274434\n",
      "-3.412850505765843, 1.1446053401887106\n",
      "-3.4137281567414393, 1.144693351112581\n",
      "-3.4146042127226455, 1.1447812020902612\n",
      "-3.4154786766081164, 1.1448688934124287\n",
      "-3.4163515512912386, 1.1449564253692324\n",
      "-3.4172228396601407, 1.1450437982502943\n",
      "-3.418092544597703, 1.1451310123447098\n",
      "-3.418960668981566, 1.1452180679410489\n",
      "-3.41982721568414, 1.1453049653273575\n",
      "-3.4206921875726164, 1.1453917047911573\n",
      "-3.4215555875089754, 1.1454782866194484\n",
      "-3.4224174183499954, 1.1455647110987086\n",
      "-3.4232776829472638, 1.1456509785148956\n",
      "-3.4241363841471855, 1.1457370891534469\n",
      "-3.4249935247909926, 1.1458230432992815\n",
      "-3.4258491077147535, 1.1459088412368008\n",
      "-3.4267031357493827, 1.1459944832498892\n",
      "-3.4275556117206496, 1.1460799696219148\n",
      "-3.428406538449188, 1.1461653006357313\n",
      "-3.4292559187505067, 1.146250476573678\n",
      "-3.4301037554349967, 1.1463354977175815\n",
      "-3.430950051307942, 1.1464203643487556\n",
      "-3.4317948091695283, 1.1465050767480036\n",
      "-3.432638031814853, 1.1465896351956177\n",
      "-3.4334797220339324, 1.1466740399713813\n",
      "-3.434319882611714, 1.146758291354569\n",
      "-3.435158516328083, 1.1468423896239481\n",
      "-3.4359956259578732, 1.1469263350577792\n",
      "-3.4368312142708755, 1.147010127933817\n",
      "-3.4376652840318465, 1.1470937685293117\n",
      "-3.4384978380005187, 1.1471772571210095\n",
      "-3.43932887893161, 1.147260593985154\n",
      "-3.4401584095748303, 1.147343779397486\n"
     ]
    },
    {
     "ename": "KeyboardInterrupt",
     "evalue": "",
     "output_type": "error",
     "traceback": [
      "\u001b[0;31m---------------------------------------------------------------------------\u001b[0m",
      "\u001b[0;31mKeyboardInterrupt\u001b[0m                         Traceback (most recent call last)",
      "\u001b[0;32m<ipython-input-23-695d723a0862>\u001b[0m in \u001b[0;36m<module>\u001b[0;34m\u001b[0m\n\u001b[1;32m     21\u001b[0m     \u001b[0msum_2\u001b[0m \u001b[0;34m=\u001b[0m \u001b[0;36m0\u001b[0m \u001b[0;31m# the value of the summation for theta_0\u001b[0m\u001b[0;34m\u001b[0m\u001b[0;34m\u001b[0m\u001b[0m\n\u001b[1;32m     22\u001b[0m     \u001b[0;32mfor\u001b[0m \u001b[0mj\u001b[0m \u001b[0;32min\u001b[0m \u001b[0mrange\u001b[0m\u001b[0;34m(\u001b[0m\u001b[0mdf\u001b[0m\u001b[0;34m.\u001b[0m\u001b[0mshape\u001b[0m\u001b[0;34m[\u001b[0m\u001b[0;36m0\u001b[0m\u001b[0;34m]\u001b[0m\u001b[0;34m)\u001b[0m\u001b[0;34m:\u001b[0m\u001b[0;34m\u001b[0m\u001b[0;34m\u001b[0m\u001b[0m\n\u001b[0;32m---> 23\u001b[0;31m         \u001b[0msum_2\u001b[0m \u001b[0;34m+=\u001b[0m \u001b[0;34m(\u001b[0m\u001b[0;34m(\u001b[0m\u001b[0;34m(\u001b[0m\u001b[0mtheta\u001b[0m\u001b[0;34m.\u001b[0m\u001b[0miloc\u001b[0m\u001b[0;34m[\u001b[0m\u001b[0;34m:\u001b[0m\u001b[0;34m,\u001b[0m\u001b[0;36m0\u001b[0m\u001b[0;34m]\u001b[0m \u001b[0;34m+\u001b[0m \u001b[0mtheta\u001b[0m\u001b[0;34m.\u001b[0m\u001b[0miloc\u001b[0m\u001b[0;34m[\u001b[0m\u001b[0;34m:\u001b[0m\u001b[0;34m,\u001b[0m\u001b[0;36m1\u001b[0m\u001b[0;34m]\u001b[0m \u001b[0;34m*\u001b[0m \u001b[0mX\u001b[0m\u001b[0;34m.\u001b[0m\u001b[0miloc\u001b[0m\u001b[0;34m[\u001b[0m\u001b[0mj\u001b[0m\u001b[0;34m]\u001b[0m\u001b[0;34m)\u001b[0m \u001b[0;34m-\u001b[0m \u001b[0my\u001b[0m\u001b[0;34m.\u001b[0m\u001b[0miloc\u001b[0m\u001b[0;34m[\u001b[0m\u001b[0mj\u001b[0m\u001b[0;34m]\u001b[0m\u001b[0;34m)\u001b[0m \u001b[0;34m*\u001b[0m \u001b[0mX\u001b[0m\u001b[0;34m.\u001b[0m\u001b[0miloc\u001b[0m\u001b[0;34m[\u001b[0m\u001b[0mj\u001b[0m\u001b[0;34m]\u001b[0m\u001b[0;34m)\u001b[0m\u001b[0;34m\u001b[0m\u001b[0;34m\u001b[0m\u001b[0m\n\u001b[0m\u001b[1;32m     24\u001b[0m     \u001b[0mtheta\u001b[0m\u001b[0;34m.\u001b[0m\u001b[0miloc\u001b[0m\u001b[0;34m[\u001b[0m\u001b[0;34m:\u001b[0m\u001b[0;34m,\u001b[0m\u001b[0;36m1\u001b[0m\u001b[0;34m]\u001b[0m \u001b[0;34m=\u001b[0m \u001b[0mtemp_theta\u001b[0m\u001b[0;34m.\u001b[0m\u001b[0miloc\u001b[0m\u001b[0;34m[\u001b[0m\u001b[0;34m:\u001b[0m\u001b[0;34m,\u001b[0m\u001b[0;36m1\u001b[0m\u001b[0;34m]\u001b[0m \u001b[0;34m-\u001b[0m \u001b[0;34m(\u001b[0m\u001b[0;34m(\u001b[0m\u001b[0malpha\u001b[0m \u001b[0;34m/\u001b[0m \u001b[0mdf\u001b[0m\u001b[0;34m.\u001b[0m\u001b[0mshape\u001b[0m\u001b[0;34m[\u001b[0m\u001b[0;36m0\u001b[0m\u001b[0;34m]\u001b[0m\u001b[0;34m)\u001b[0m \u001b[0;34m*\u001b[0m \u001b[0msum_2\u001b[0m\u001b[0;34m)\u001b[0m\u001b[0;34m\u001b[0m\u001b[0;34m\u001b[0m\u001b[0m\n\u001b[1;32m     25\u001b[0m \u001b[0;34m\u001b[0m\u001b[0m\n",
      "\u001b[0;32m/usr/local/lib/python3.7/site-packages/pandas/core/indexing.py\u001b[0m in \u001b[0;36m__getitem__\u001b[0;34m(self, key)\u001b[0m\n\u001b[1;32m    882\u001b[0m     \u001b[0;32mdef\u001b[0m \u001b[0m__getitem__\u001b[0m\u001b[0;34m(\u001b[0m\u001b[0mself\u001b[0m\u001b[0;34m,\u001b[0m \u001b[0mkey\u001b[0m\u001b[0;34m)\u001b[0m\u001b[0;34m:\u001b[0m\u001b[0;34m\u001b[0m\u001b[0;34m\u001b[0m\u001b[0m\n\u001b[1;32m    883\u001b[0m         \u001b[0;32mif\u001b[0m \u001b[0mtype\u001b[0m\u001b[0;34m(\u001b[0m\u001b[0mkey\u001b[0m\u001b[0;34m)\u001b[0m \u001b[0;32mis\u001b[0m \u001b[0mtuple\u001b[0m\u001b[0;34m:\u001b[0m\u001b[0;34m\u001b[0m\u001b[0;34m\u001b[0m\u001b[0m\n\u001b[0;32m--> 884\u001b[0;31m             \u001b[0mkey\u001b[0m \u001b[0;34m=\u001b[0m \u001b[0mtuple\u001b[0m\u001b[0;34m(\u001b[0m\u001b[0mcom\u001b[0m\u001b[0;34m.\u001b[0m\u001b[0mapply_if_callable\u001b[0m\u001b[0;34m(\u001b[0m\u001b[0mx\u001b[0m\u001b[0;34m,\u001b[0m \u001b[0mself\u001b[0m\u001b[0;34m.\u001b[0m\u001b[0mobj\u001b[0m\u001b[0;34m)\u001b[0m \u001b[0;32mfor\u001b[0m \u001b[0mx\u001b[0m \u001b[0;32min\u001b[0m \u001b[0mkey\u001b[0m\u001b[0;34m)\u001b[0m\u001b[0;34m\u001b[0m\u001b[0;34m\u001b[0m\u001b[0m\n\u001b[0m\u001b[1;32m    885\u001b[0m             \u001b[0;32mif\u001b[0m \u001b[0mself\u001b[0m\u001b[0;34m.\u001b[0m\u001b[0m_is_scalar_access\u001b[0m\u001b[0;34m(\u001b[0m\u001b[0mkey\u001b[0m\u001b[0;34m)\u001b[0m\u001b[0;34m:\u001b[0m\u001b[0;34m\u001b[0m\u001b[0;34m\u001b[0m\u001b[0m\n\u001b[1;32m    886\u001b[0m                 \u001b[0;32mwith\u001b[0m \u001b[0msuppress\u001b[0m\u001b[0;34m(\u001b[0m\u001b[0mKeyError\u001b[0m\u001b[0;34m,\u001b[0m \u001b[0mIndexError\u001b[0m\u001b[0;34m,\u001b[0m \u001b[0mAttributeError\u001b[0m\u001b[0;34m)\u001b[0m\u001b[0;34m:\u001b[0m\u001b[0;34m\u001b[0m\u001b[0;34m\u001b[0m\u001b[0m\n",
      "\u001b[0;32m/usr/local/lib/python3.7/site-packages/pandas/core/indexing.py\u001b[0m in \u001b[0;36m<genexpr>\u001b[0;34m(.0)\u001b[0m\n\u001b[1;32m    882\u001b[0m     \u001b[0;32mdef\u001b[0m \u001b[0m__getitem__\u001b[0m\u001b[0;34m(\u001b[0m\u001b[0mself\u001b[0m\u001b[0;34m,\u001b[0m \u001b[0mkey\u001b[0m\u001b[0;34m)\u001b[0m\u001b[0;34m:\u001b[0m\u001b[0;34m\u001b[0m\u001b[0;34m\u001b[0m\u001b[0m\n\u001b[1;32m    883\u001b[0m         \u001b[0;32mif\u001b[0m \u001b[0mtype\u001b[0m\u001b[0;34m(\u001b[0m\u001b[0mkey\u001b[0m\u001b[0;34m)\u001b[0m \u001b[0;32mis\u001b[0m \u001b[0mtuple\u001b[0m\u001b[0;34m:\u001b[0m\u001b[0;34m\u001b[0m\u001b[0;34m\u001b[0m\u001b[0m\n\u001b[0;32m--> 884\u001b[0;31m             \u001b[0mkey\u001b[0m \u001b[0;34m=\u001b[0m \u001b[0mtuple\u001b[0m\u001b[0;34m(\u001b[0m\u001b[0mcom\u001b[0m\u001b[0;34m.\u001b[0m\u001b[0mapply_if_callable\u001b[0m\u001b[0;34m(\u001b[0m\u001b[0mx\u001b[0m\u001b[0;34m,\u001b[0m \u001b[0mself\u001b[0m\u001b[0;34m.\u001b[0m\u001b[0mobj\u001b[0m\u001b[0;34m)\u001b[0m \u001b[0;32mfor\u001b[0m \u001b[0mx\u001b[0m \u001b[0;32min\u001b[0m \u001b[0mkey\u001b[0m\u001b[0;34m)\u001b[0m\u001b[0;34m\u001b[0m\u001b[0;34m\u001b[0m\u001b[0m\n\u001b[0m\u001b[1;32m    885\u001b[0m             \u001b[0;32mif\u001b[0m \u001b[0mself\u001b[0m\u001b[0;34m.\u001b[0m\u001b[0m_is_scalar_access\u001b[0m\u001b[0;34m(\u001b[0m\u001b[0mkey\u001b[0m\u001b[0;34m)\u001b[0m\u001b[0;34m:\u001b[0m\u001b[0;34m\u001b[0m\u001b[0;34m\u001b[0m\u001b[0m\n\u001b[1;32m    886\u001b[0m                 \u001b[0;32mwith\u001b[0m \u001b[0msuppress\u001b[0m\u001b[0;34m(\u001b[0m\u001b[0mKeyError\u001b[0m\u001b[0;34m,\u001b[0m \u001b[0mIndexError\u001b[0m\u001b[0;34m,\u001b[0m \u001b[0mAttributeError\u001b[0m\u001b[0;34m)\u001b[0m\u001b[0;34m:\u001b[0m\u001b[0;34m\u001b[0m\u001b[0;34m\u001b[0m\u001b[0m\n",
      "\u001b[0;31mKeyboardInterrupt\u001b[0m: "
     ]
    }
   ],
   "source": [
    "#### Implementing gradient descent ####\n",
    "%matplotlib inline\n",
    "\n",
    "# number of iterations\n",
    "iter = 1000\n",
    "\n",
    "# learning rate\n",
    "alpha = 0.01\n",
    "\n",
    "for i in range(iter):\n",
    "    temp_theta = theta\n",
    "    \n",
    "    ### updating theta_0 ###\n",
    "    sum_1 = 0 # the value of the summation for theta_0\n",
    "    for j in range(df.shape[0]):\n",
    "        sum_1 += ((theta.iloc[:,0] + theta.iloc[:,1] * X.iloc[j]) - y.iloc[j])\n",
    "    theta.iloc[:,0] = temp_theta.iloc[:,0] - ((alpha / df.shape[0]) * sum_1) \n",
    "    \n",
    "    \n",
    "    ### updating theta_1 ###\n",
    "    sum_2 = 0 # the value of the summation for theta_0\n",
    "    for j in range(df.shape[0]):\n",
    "        sum_2 += (((theta.iloc[:,0] + theta.iloc[:,1] * X.iloc[j]) - y.iloc[j]) * X.iloc[j])\n",
    "    theta.iloc[:,1] = temp_theta.iloc[:,1] - ((alpha / df.shape[0]) * sum_2) \n",
    "    \n",
    "    print(f\"{float(theta.iloc[:,0])}, {float(theta.iloc[:,1])}\") \n"
   ]
  },
  {
   "cell_type": "markdown",
   "id": "terminal-paris",
   "metadata": {},
   "source": [
    "***\n",
    "Now that we've fit our parameter vector $\\theta$, let's use it in our hypothesis function $h_{\\theta}$ to make predictions of profits based on a given city population!"
   ]
  },
  {
   "cell_type": "markdown",
   "id": "international-croatia",
   "metadata": {},
   "source": [
    "For example, we will predict the profit corresponding to a city population of 150,000 using our hypothesis function $h_{\\theta}$:"
   ]
  },
  {
   "cell_type": "code",
   "execution_count": 29,
   "id": "extended-ready",
   "metadata": {},
   "outputs": [
    {
     "name": "stdout",
     "output_type": "stream",
     "text": [
      "13.7691702582874\n"
     ]
    }
   ],
   "source": [
    "predicted_profit = float(theta.iloc[:,0]) + float(theta.iloc[:,1]) * 15\n",
    "print(predicted_profit)"
   ]
  },
  {
   "cell_type": "markdown",
   "id": "breeding-specialist",
   "metadata": {},
   "source": [
    "Finally, replotting our original training data, but now with the hypothesis function $h_{\\theta}$ plotted in blue and our predicted value plotted in yellow, we get:"
   ]
  },
  {
   "cell_type": "code",
   "execution_count": 30,
   "id": "stupid-potential",
   "metadata": {
    "scrolled": true
   },
   "outputs": [
    {
     "data": {
      "text/plain": [
       "Text(0, 0.5, 'Profit in 10,000s')"
      ]
     },
     "execution_count": 30,
     "metadata": {},
     "output_type": "execute_result"
    },
    {
     "data": {
      "image/png": "[encoded data removed]",
      "text/plain": [
       "<Figure size 432x288 with 1 Axes>"
      ]
     },
     "metadata": {
      "needs_background": "light"
     },
     "output_type": "display_data"
    }
   ],
   "source": [
    "x = np.arange(5.0, 22.5, .25)\n",
    "theta_0 = float(theta.iloc[:,0])\n",
    "theta_1 = float(theta.iloc[:,1])\n",
    "\n",
    "fig = plt.figure() # initializes figure object\n",
    "plt.plot(df[\"Population\"], df[\"Profit\"], 'ro')\n",
    "plt.plot(x, theta_0 + theta_1 * x)\n",
    "plt.plot(15, predicted_profit, 'yo')\n",
    "plt.xlabel('City Population in 10,000s')\n",
    "plt.ylabel('Profit in 10,000s')"
   ]
  },
  {
   "cell_type": "markdown",
   "id": "acute-orleans",
   "metadata": {},
   "source": [
    "***\n",
    "## Voila!\n",
    "    \n",
    "We've successfully implemented univariate linear regression. The next step would be to implement multivariate linear regression to make predictions based on multiple features, but that's for another time..."
   ]
  }
 ],
 "metadata": {
  "kernelspec": {
   "display_name": "ipy-jupyter-venv3",
   "language": "python",
   "name": "myipy_jupter_env3"
  },
  "language_info": {
   "codemirror_mode": {
    "name": "ipython",
    "version": 3
   },
   "file_extension": ".py",
   "mimetype": "text/x-python",
   "name": "python",
   "nbconvert_exporter": "python",
   "pygments_lexer": "ipython3",
   "version": "3.7.4"
  }
 },
 "nbformat": 4,
 "nbformat_minor": 5
}
